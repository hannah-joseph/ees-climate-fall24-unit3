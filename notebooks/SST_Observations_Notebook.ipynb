{
 "cells": [
  {
   "cell_type": "code",
   "execution_count": 1,
   "id": "edf425fe-4460-4e1c-93b4-ac5b5219f79d",
   "metadata": {
    "tags": []
   },
   "outputs": [],
   "source": [
    "import matplotlib.pyplot as plt \n",
    "import xarray as xr\n",
    "import numpy as np"
   ]
  },
  {
   "cell_type": "code",
   "execution_count": null,
   "id": "039a91ca-5fe4-4f79-95d5-4e89df7eadda",
   "metadata": {},
   "outputs": [],
   "source": []
  },
  {
   "cell_type": "code",
   "execution_count": null,
   "id": "b59b6559-a410-4c9e-8c5f-6013faf69bf2",
   "metadata": {},
   "outputs": [],
   "source": []
  },
  {
   "cell_type": "code",
   "execution_count": null,
   "id": "11a01713-962e-4f9b-9042-a2a42a2bab95",
   "metadata": {},
   "outputs": [],
   "source": []
  },
  {
   "cell_type": "code",
   "execution_count": null,
   "id": "a5c37540-6b7a-4d8e-ab65-792eb5987684",
   "metadata": {},
   "outputs": [],
   "source": []
  },
  {
   "cell_type": "markdown",
   "id": "dff994d1-9334-4070-a1f7-f405b7034cf6",
   "metadata": {
    "tags": []
   },
   "source": [
    "### Load in a Dataset of observed monthly-mean SST from OISST that contains data from January 1993 to Dec 2022. We also load in our land-sea mask for the dataset to be used later in a global mean calculation."
   ]
  },
  {
   "cell_type": "code",
   "execution_count": 3,
   "id": "dd353856-3f57-4794-81f2-8004dfa90cda",
   "metadata": {
    "tags": []
   },
   "outputs": [],
   "source": [
    "## Load a dataset of SST from OISST and assign to a variable called SST_OISST:\n",
    "ees_climate_dir = 'C:/Users/TU_Climate24_Student/Desktop/ees_climate/'\n",
    "SST_OISST = xr.open_dataset(ees_climate_dir+'unit3/data/sst.oisst.mon.mean.1993_2022.nc',\n",
    "                           use_cftime=True)\n",
    "                           ### this use_cftime=True allows Xarray to interpret time coords as calendar.\n",
    "\n",
    "## load in a dataset that contains a land-sea mask:\n",
    "OISST_landsea_mask = xr.open_dataset(ees_climate_dir+'unit3/data/lsmask.nc')"
   ]
  },
  {
   "cell_type": "markdown",
   "id": "86a5c7e2-9c75-4011-a6ce-62a2fcc85442",
   "metadata": {},
   "source": [
    "### Compute and produce a timeseries of the following and describe your observations:\n",
    "* ### area-weighted global average SST\n",
    "* ### area-weighted arctic SST (55N to 90N)\n",
    "* ### area-weighted antarctic SST (55S to 90S)"
   ]
  },
  {
   "cell_type": "markdown",
   "id": "8b237ab4-502f-4f88-bce0-3f6bf8892704",
   "metadata": {},
   "source": [
    "### Produce a figure with 4 subplots that shows the global seasonal time-averaged (1993 to 2022) SST."
   ]
  },
  {
   "cell_type": "code",
   "execution_count": null,
   "id": "ee7ba9da-ce64-4a80-b719-f279ed4b28b5",
   "metadata": {},
   "outputs": [],
   "source": []
  },
  {
   "cell_type": "markdown",
   "id": "7a25f1f1-1e19-42b9-a223-1c3da41fd469",
   "metadata": {},
   "source": [
    "### Produce a visualization of the average of the most recent 5 year average minus the first 5 years and describe the spatial patterns observed."
   ]
  },
  {
   "cell_type": "code",
   "execution_count": null,
   "id": "e42500a6-4c56-4b55-879e-20fe4975e25b",
   "metadata": {},
   "outputs": [],
   "source": []
  },
  {
   "cell_type": "markdown",
   "id": "4128fe65-34e5-4bec-80f8-3942f8cf253c",
   "metadata": {},
   "source": [
    "### Repeat the analysis above but considering the seasonal differences."
   ]
  },
  {
   "cell_type": "code",
   "execution_count": null,
   "id": "9a6e8a17-4546-4775-b1af-565f9980db38",
   "metadata": {},
   "outputs": [],
   "source": []
  },
  {
   "cell_type": "markdown",
   "id": "6cb5afbf-f2ca-4d3b-9073-906a7946af5f",
   "metadata": {},
   "source": [
    "### Assess the annual - mean SST anomalies in 2022 compared to the 1993 to 2022 climatological average. What patterns stand out in 2022? "
   ]
  },
  {
   "cell_type": "code",
   "execution_count": null,
   "id": "2ecbb7a4-051b-4a30-97d3-73753b73c6b8",
   "metadata": {},
   "outputs": [],
   "source": []
  },
  {
   "cell_type": "code",
   "execution_count": null,
   "id": "3a175744-3b7e-4c29-8bef-0edc1b0905e0",
   "metadata": {},
   "outputs": [],
   "source": []
  },
  {
   "cell_type": "code",
   "execution_count": null,
   "id": "14d9e903-1fa0-4cfc-abd8-606baf04017b",
   "metadata": {},
   "outputs": [],
   "source": []
  }
 ],
 "metadata": {
  "kernelspec": {
   "display_name": "Python 3 (ipykernel)",
   "language": "python",
   "name": "python3"
  },
  "language_info": {
   "codemirror_mode": {
    "name": "ipython",
    "version": 3
   },
   "file_extension": ".py",
   "mimetype": "text/x-python",
   "name": "python",
   "nbconvert_exporter": "python",
   "pygments_lexer": "ipython3",
   "version": "3.11.9"
  }
 },
 "nbformat": 4,
 "nbformat_minor": 5
}
